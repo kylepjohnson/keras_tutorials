{
 "cells": [
  {
   "cell_type": "markdown",
   "metadata": {},
   "source": [
    "# Setup"
   ]
  },
  {
   "cell_type": "code",
   "execution_count": 2,
   "metadata": {},
   "outputs": [
    {
     "name": "stderr",
     "output_type": "stream",
     "text": [
      "Using TensorFlow backend.\n"
     ]
    }
   ],
   "source": [
    "# https://github.com/fchollet/keras/blob/master/examples/imdb_lstm.py\n",
    "\n",
    "'''Trains a LSTM on the IMDB sentiment classification task.\n",
    "The dataset is actually too small for LSTM to be of any advantage\n",
    "compared to simpler, much faster methods such as TF-IDF + LogReg.\n",
    "Notes:\n",
    "- RNNs are tricky. Choice of batch size is important,\n",
    "choice of loss and optimizer is critical, etc.\n",
    "Some configurations won't converge.\n",
    "- LSTM loss decrease patterns during training can be quite different\n",
    "from what you see with CNNs/MLPs/etc.\n",
    "'''\n",
    "from __future__ import print_function\n",
    "\n",
    "from keras.preprocessing import sequence\n",
    "from keras.models import Sequential\n",
    "from keras.layers import Dense, Embedding\n",
    "from keras.layers import LSTM\n",
    "from keras.datasets import imdb"
   ]
  },
  {
   "cell_type": "code",
   "execution_count": 3,
   "metadata": {},
   "outputs": [
    {
     "name": "stdout",
     "output_type": "stream",
     "text": [
      "Loading data...\n",
      "Downloading data from https://s3.amazonaws.com/text-datasets/imdb.npz\n",
      "17293312/17464789 [============================>.] - ETA: 0s25000 train sequences\n",
      "25000 test sequences\n",
      "Pad sequences (samples x time)\n",
      "x_train shape: (25000, 80)\n",
      "x_test shape: (25000, 80)\n"
     ]
    }
   ],
   "source": [
    "max_features = 20000\n",
    "maxlen = 80  # cut texts after this number of words (among top max_features most common words)\n",
    "batch_size = 32\n",
    "\n",
    "print('Loading data...')\n",
    "(x_train, y_train), (x_test, y_test) = imdb.load_data(num_words=max_features)\n",
    "print(len(x_train), 'train sequences')\n",
    "print(len(x_test), 'test sequences')\n",
    "\n",
    "print('Pad sequences (samples x time)')\n",
    "x_train = sequence.pad_sequences(x_train, maxlen=maxlen)\n",
    "x_test = sequence.pad_sequences(x_test, maxlen=maxlen)\n",
    "print('x_train shape:', x_train.shape)\n",
    "print('x_test shape:', x_test.shape)"
   ]
  },
  {
   "cell_type": "markdown",
   "metadata": {},
   "source": [
    "# Make model"
   ]
  },
  {
   "cell_type": "code",
   "execution_count": 4,
   "metadata": {},
   "outputs": [
    {
     "name": "stdout",
     "output_type": "stream",
     "text": [
      "Build model...\n",
      "Train...\n",
      "Train on 25000 samples, validate on 25000 samples\n",
      "Epoch 1/15\n",
      "25000/25000 [==============================] - 51s - loss: 0.4666 - acc: 0.7740 - val_loss: 0.3890 - val_acc: 0.8304\n",
      "Epoch 2/15\n",
      "25000/25000 [==============================] - 50s - loss: 0.2940 - acc: 0.8798 - val_loss: 0.3818 - val_acc: 0.8378\n",
      "Epoch 3/15\n",
      "25000/25000 [==============================] - 50s - loss: 0.2062 - acc: 0.9208 - val_loss: 0.4415 - val_acc: 0.8283\n",
      "Epoch 4/15\n",
      "25000/25000 [==============================] - 51s - loss: 0.1509 - acc: 0.9440 - val_loss: 0.4734 - val_acc: 0.8197\n",
      "Epoch 5/15\n",
      "25000/25000 [==============================] - 51s - loss: 0.1055 - acc: 0.9618 - val_loss: 0.6151 - val_acc: 0.8197\n",
      "Epoch 6/15\n",
      "25000/25000 [==============================] - 51s - loss: 0.0732 - acc: 0.9739 - val_loss: 0.6528 - val_acc: 0.8223\n",
      "Epoch 7/15\n",
      "25000/25000 [==============================] - 51s - loss: 0.0594 - acc: 0.9794 - val_loss: 0.6628 - val_acc: 0.8156\n",
      "Epoch 8/15\n",
      "25000/25000 [==============================] - 51s - loss: 0.0404 - acc: 0.9868 - val_loss: 0.9066 - val_acc: 0.8112\n",
      "Epoch 9/15\n",
      "25000/25000 [==============================] - 51s - loss: 0.0319 - acc: 0.9900 - val_loss: 0.9489 - val_acc: 0.8098\n",
      "Epoch 10/15\n",
      "25000/25000 [==============================] - 50s - loss: 0.0272 - acc: 0.9914 - val_loss: 0.9559 - val_acc: 0.8090\n",
      "Epoch 11/15\n",
      "25000/25000 [==============================] - 51s - loss: 0.0208 - acc: 0.9933 - val_loss: 0.9588 - val_acc: 0.8090\n",
      "Epoch 12/15\n",
      "25000/25000 [==============================] - 51s - loss: 0.0170 - acc: 0.9945 - val_loss: 1.0106 - val_acc: 0.8125\n",
      "Epoch 13/15\n",
      "25000/25000 [==============================] - 51s - loss: 0.0123 - acc: 0.9960 - val_loss: 1.1794 - val_acc: 0.8086\n",
      "Epoch 14/15\n",
      "25000/25000 [==============================] - 51s - loss: 0.0119 - acc: 0.9964 - val_loss: 1.2621 - val_acc: 0.8032\n",
      "Epoch 15/15\n",
      "25000/25000 [==============================] - 51s - loss: 0.0178 - acc: 0.9944 - val_loss: 1.1026 - val_acc: 0.8065\n"
     ]
    },
    {
     "data": {
      "text/plain": [
       "<keras.callbacks.History at 0x7fe22fa8fc50>"
      ]
     },
     "execution_count": 4,
     "metadata": {},
     "output_type": "execute_result"
    }
   ],
   "source": [
    "print('Build model...')\n",
    "model = Sequential()\n",
    "model.add(Embedding(max_features, 128))\n",
    "model.add(LSTM(128, dropout=0.2, recurrent_dropout=0.2))\n",
    "model.add(Dense(1, activation='sigmoid'))\n",
    "\n",
    "# try using different optimizers and different optimizer configs\n",
    "model.compile(loss='binary_crossentropy',\n",
    "              optimizer='adam',\n",
    "              metrics=['accuracy'])\n",
    "\n",
    "print('Train...')\n",
    "model.fit(x_train, y_train,\n",
    "          batch_size=batch_size,\n",
    "          epochs=15,\n",
    "validation_data=(x_test, y_test))"
   ]
  },
  {
   "cell_type": "markdown",
   "metadata": {},
   "source": [
    "# Evaluate"
   ]
  },
  {
   "cell_type": "code",
   "execution_count": 5,
   "metadata": {},
   "outputs": [
    {
     "name": "stdout",
     "output_type": "stream",
     "text": [
      "24896/25000 [============================>.] - ETA: 0sTest score: 1.10255667389\n",
      "Test accuracy: 0.80648\n"
     ]
    }
   ],
   "source": [
    "score, acc = model.evaluate(x_test, y_test,\n",
    "                            batch_size=batch_size)\n",
    "print('Test score:', score)\n",
    "print('Test accuracy:', acc)"
   ]
  }
 ],
 "metadata": {
  "kernelspec": {
   "display_name": "Python 3",
   "language": "python",
   "name": "python3"
  },
  "language_info": {
   "codemirror_mode": {
    "name": "ipython",
    "version": 3
   },
   "file_extension": ".py",
   "mimetype": "text/x-python",
   "name": "python",
   "nbconvert_exporter": "python",
   "pygments_lexer": "ipython3",
   "version": "3.6.2"
  }
 },
 "nbformat": 4,
 "nbformat_minor": 2
}
